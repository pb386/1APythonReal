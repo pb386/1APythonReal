{
  "cells": [
    {
      "cell_type": "markdown",
      "metadata": {
        "nbgrader": {
          "grade": false,
          "grade_id": "cell-bccc9a5624d0e0f9",
          "locked": true,
          "schema_version": 3,
          "solution": false
        },
        "id": "36-vrP8yzIA1"
      },
      "source": [
        "<!-- BEGIN QUESTION -->\n",
        "\n",
        "## Exercise 03.1\n",
        "\n",
        "Compare the computed values of\n",
        "\n",
        "$$\n",
        "d_0 = a \\cdot b + a  \\cdot  c\n",
        "$$\n",
        "\n",
        "and\n",
        "\n",
        "$$\n",
        "d_1 = a \\cdot (b + c)\n",
        "$$\n",
        "\n",
        "when $a = 100$, $b = 0.1$ and $c = 0.2$. Store $d_{0}$ in the variable `d0` and $d_{1}$ in the variable `d1`.\n",
        "\n",
        "\n",
        "Try checking for equality, e.g. `print(d0 == d1)`."
      ]
    },
    {
      "cell_type": "code",
      "execution_count": 5,
      "metadata": {
        "nbgrader": {
          "grade": false,
          "grade_id": "cell-447110c225124fc4",
          "locked": false,
          "schema_version": 3,
          "solution": true
        },
        "tags": [],
        "id": "_uxeJRfOzIA4",
        "outputId": "6a689130-f34a-4644-aa54-bc65c224f2e5",
        "colab": {
          "base_uri": "https://localhost:8080/"
        }
      },
      "outputs": [
        {
          "output_type": "stream",
          "name": "stdout",
          "text": [
            "30.0\n",
            "30.000000000000004\n",
            "True\n",
            "False\n"
          ]
        }
      ],
      "source": [
        "import math\n",
        "a = 100\n",
        "b = 1/10\n",
        "c = 1/5\n",
        "\n",
        "d0 = (a*b) + (a*c)\n",
        "print(d0)\n",
        "\n",
        "d1 = a * (b+c)\n",
        "print(d1)\n",
        "print(math.isclose(d0, d1))\n",
        "print(d0 == d1)\n",
        "\n",
        "## small errors are being introduced which results in d0 != d1 ##"
      ]
    },
    {
      "cell_type": "code",
      "execution_count": null,
      "metadata": {
        "nbgrader": {
          "grade": true,
          "grade_id": "cell-91f2d89d88ea86c0",
          "locked": true,
          "points": 0,
          "schema_version": 3,
          "solution": false
        },
        "id": "c4rY2cDfzIA6"
      },
      "outputs": [],
      "source": [
        "## tests ##\n",
        "assert d0 == 30.0\n",
        "assert d1 != 30.0\n",
        "assert d0 != d1"
      ]
    },
    {
      "cell_type": "markdown",
      "metadata": {
        "id": "ucXlpiKkzIA6"
      },
      "source": [
        "<!-- END QUESTION -->\n",
        "\n",
        "## Exercise 03.2\n",
        "\n",
        "For the polynomial\n",
        "\\begin{align}\n",
        "f(x, y) &= (x + y)^{6}\n",
        "\\\\\n",
        "&=  x^6 + 6x^{5}y + 15x^{4}y^{2} + 20x^{3}y^{3} + 15x^{2}y^{4} + 6xy^{5} + y^{6}\n",
        "\\end{align}\n",
        "compute $f$ using: (i) the compact form $(x + y)^{6}$; and (ii) the expanded form for:\n",
        "\n",
        "(a) $x = 10$ and $y = 10.1$\n",
        "\n",
        "(b) $x = 10$ and $y = -10.1$\n",
        "\n",
        "and compare the number of significant digits for which the answers are the same.\n",
        "Store the answer for the compact version using the variable `f0`, and using the variable `f1` for the expanded version.\n",
        "\n",
        "For case (b), compare the computed and analytical solutions and consider the relative error.\n",
        "Which approach would you recommend for computing this expression?"
      ]
    },
    {
      "cell_type": "markdown",
      "metadata": {
        "id": "w36oKST6zIA7"
      },
      "source": [
        "#### (a) $x = 10$ and $y = 10.1$"
      ]
    },
    {
      "cell_type": "code",
      "execution_count": 8,
      "metadata": {
        "nbgrader": {
          "grade": false,
          "grade_id": "cell-e8428e3de87d5500",
          "locked": false,
          "schema_version": 3,
          "solution": true
        },
        "tags": [],
        "id": "8dxUtMAUzIA7",
        "outputId": "03c047da-4253-4237-8f79-4d0525cde9a1",
        "colab": {
          "base_uri": "https://localhost:8080/"
        }
      },
      "outputs": [
        {
          "output_type": "stream",
          "name": "stdout",
          "text": [
            "65944160.60120103\n",
            "65944160.601201\n"
          ]
        }
      ],
      "source": [
        "x = 10.0\n",
        "y = 10.1\n",
        "f0 = (x+y)**6\n",
        "f1 = x**6 + 6*x**5*y + 15*x**4*y**2 + 20*x**3*y**3 + 15*x**2*y**4 + 6*x*y**5 + y**6\n",
        "print(f0)\n",
        "print(f1)"
      ]
    },
    {
      "cell_type": "code",
      "execution_count": 9,
      "metadata": {
        "nbgrader": {
          "grade": true,
          "grade_id": "cell-55d184514edf3a67",
          "locked": true,
          "points": 0,
          "schema_version": 3,
          "solution": false
        },
        "id": "YTF0I4d6zIA7"
      },
      "outputs": [],
      "source": [
        "## tests ##\n",
        "import math\n",
        "assert math.isclose(f0, 65944160.60120103, rel_tol=1e-10)\n",
        "assert math.isclose(f1, 65944160.601201, rel_tol=1e-10)"
      ]
    },
    {
      "cell_type": "markdown",
      "metadata": {
        "id": "U3TNRB6PzIA8"
      },
      "source": [
        "#### (b) $x = 10$ and $y = -10.1$"
      ]
    },
    {
      "cell_type": "code",
      "execution_count": 10,
      "metadata": {
        "nbgrader": {
          "grade": false,
          "grade_id": "cell-1561d20281ff67f6",
          "locked": false,
          "schema_version": 3,
          "solution": true
        },
        "tags": [],
        "id": "l_FOu0RpzIA8",
        "outputId": "c1192f9f-eebb-4505-d006-372efa17a3d9",
        "colab": {
          "base_uri": "https://localhost:8080/"
        }
      },
      "outputs": [
        {
          "output_type": "stream",
          "name": "stdout",
          "text": [
            "9.999999999999788e-07\n",
            "9.958166629076004e-07\n",
            "4.183337092378376e-09\n"
          ]
        }
      ],
      "source": [
        "x = 10.0\n",
        "y = -10.1\n",
        "f0 = (x+y)**6\n",
        "f1 = x**6 + 6*x**5*y + 15*x**4*y**2 + 20*x**3*y**3 + 15*x**2*y**4 + 6*x*y**5 + y**6\n",
        "print(f0)\n",
        "print(f1)\n",
        "error = abs(f1-f0)\n",
        "print(error)"
      ]
    },
    {
      "cell_type": "code",
      "execution_count": null,
      "metadata": {
        "id": "vncxRQJmzIA9"
      },
      "outputs": [],
      "source": [
        "## tests ##\n",
        "import math\n",
        "assert math.isclose(f0, 1.0e-6, rel_tol=1e-10)\n",
        "assert math.isclose(f1, 1.0e-6, rel_tol=1e-2)"
      ]
    },
    {
      "cell_type": "markdown",
      "metadata": {
        "id": "96UYpGumzIA9"
      },
      "source": [
        "## Exercise 03.3\n",
        "\n",
        "Consider the expression\n",
        "\n",
        "$$\n",
        "f = \\frac{1}{\\sqrt{x^2 - 1} - x}\n",
        "$$\n",
        "\n",
        "When $x$ is very large, the denominator approaches zero, which can cause problems.\n",
        "\n",
        "Try rephrasing the problem and eliminating the fraction by multiplying the numerator and denominator by $\\sqrt{x^2 - 1} + x$ and evaluate the two versions of the expression when:\n",
        "\n",
        "(a) $x = 1 \\times 10^{7}$\n",
        "\n",
        "(b) $x = 1 \\times 10^{9}$ (You may get a Python error for this case. Why?)"
      ]
    },
    {
      "cell_type": "markdown",
      "metadata": {
        "nbgrader": {
          "grade": false,
          "grade_id": "cell-53e1abf388eedabe",
          "locked": true,
          "schema_version": 3,
          "solution": false
        },
        "id": "nC2GZQtuzIA9"
      },
      "source": [
        "#### (a) $x = 1 \\times 10^{7}$"
      ]
    },
    {
      "cell_type": "code",
      "execution_count": 19,
      "metadata": {
        "nbgrader": {
          "grade": true,
          "grade_id": "cell-149ac8791e7ff020",
          "locked": false,
          "points": 0,
          "schema_version": 3,
          "solution": true
        },
        "tags": [],
        "id": "2Pad19yuzIA-",
        "outputId": "0613aec6-d2bc-4539-e253-57e917cc7be1",
        "colab": {
          "base_uri": "https://localhost:8080/"
        }
      },
      "outputs": [
        {
          "output_type": "stream",
          "name": "stdout",
          "text": [
            "-19884107.85185185\n",
            "-19999999.999999948\n"
          ]
        }
      ],
      "source": [
        "import math\n",
        "x = 10**7\n",
        "f = (math.sqrt(x**2 - 1) + x)/-1\n",
        "f2 = 1/(math.sqrt(x**2 - 1) - x)\n",
        "print(f2)\n",
        "print(f)\n",
        "\n"
      ]
    },
    {
      "cell_type": "markdown",
      "metadata": {
        "nbgrader": {
          "grade": false,
          "grade_id": "cell-bcc863a1c5c8a6f8",
          "locked": true,
          "schema_version": 3,
          "solution": false
        },
        "id": "tvUgb4hwzIA-"
      },
      "source": [
        "#### (b) $x = 1 \\times 10^{9}$"
      ]
    },
    {
      "cell_type": "code",
      "execution_count": 20,
      "metadata": {
        "nbgrader": {
          "grade": true,
          "grade_id": "cell-4ef986ef1f5838ba",
          "locked": false,
          "points": 0,
          "schema_version": 3,
          "solution": true
        },
        "tags": [],
        "id": "Vw13LlZnzIA-",
        "outputId": "d0d9a21c-6808-4def-810b-f0858b4a963d",
        "colab": {
          "base_uri": "https://localhost:8080/"
        }
      },
      "outputs": [
        {
          "output_type": "stream",
          "name": "stdout",
          "text": [
            "-1999999999.0\n"
          ]
        }
      ],
      "source": [
        "import math\n",
        "x = 10**9\n",
        "f0 = ((math.sqrt(x**2)-1) + x)\n",
        "f1 = -1\n",
        "f = f0/f1\n",
        "print(f)"
      ]
    }
  ],
  "metadata": {
    "celltoolbar": "Create Assignment",
    "kernelspec": {
      "display_name": "Python 3 (ipykernel)",
      "language": "python",
      "name": "python3"
    },
    "language_info": {
      "codemirror_mode": {
        "name": "ipython",
        "version": 3
      },
      "file_extension": ".py",
      "mimetype": "text/x-python",
      "name": "python",
      "nbconvert_exporter": "python",
      "pygments_lexer": "ipython3",
      "version": "3.10.6"
    },
    "otter": {
      "OK_FORMAT": true,
      "assignment_name": "Exercises 3",
      "tests": {}
    },
    "colab": {
      "provenance": []
    }
  },
  "nbformat": 4,
  "nbformat_minor": 0
}