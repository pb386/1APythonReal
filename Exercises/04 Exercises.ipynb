{
  "cells": [
    {
      "cell_type": "markdown",
      "metadata": {
        "nbgrader": {
          "grade": false,
          "grade_id": "cell-0dc6eedbed930025",
          "locked": true,
          "schema_version": 3,
          "solution": false
        },
        "id": "rP5xLqoRJqgq"
      },
      "source": [
        "## Exercise 04.1 (simple function)\n",
        "\n",
        "Write a function called `is_even` which takes an integer as an argument and returns `True` if the argument is even, and otherwise returns `False`. Test your function for several values."
      ]
    },
    {
      "cell_type": "code",
      "execution_count": 2,
      "metadata": {
        "nbgrader": {
          "grade": false,
          "grade_id": "cell-f07e8ac1f9838913",
          "locked": false,
          "schema_version": 3,
          "solution": true
        },
        "tags": [],
        "id": "Up7x5-6EJqgt",
        "outputId": "d0ed4863-aac7-45bc-fbcf-304b6dabb008",
        "colab": {
          "base_uri": "https://localhost:8080/"
        }
      },
      "outputs": [
        {
          "output_type": "stream",
          "name": "stdout",
          "text": [
            "True\n",
            "False\n",
            "True\n",
            "False\n",
            "True\n"
          ]
        }
      ],
      "source": [
        "def is_even(x):\n",
        "    if x % 2 == 0:\n",
        "        return True;\n",
        "    else:\n",
        "        return False;\n",
        "print(is_even(0))\n",
        "print(is_even(101))\n",
        "print(is_even(982))\n",
        "print(is_even(-5))\n",
        "print(is_even(-8))\n"
      ]
    },
    {
      "cell_type": "code",
      "execution_count": null,
      "metadata": {
        "nbgrader": {
          "grade": true,
          "grade_id": "cell-8a4ca795d9fa96dd",
          "locked": true,
          "points": 0,
          "schema_version": 3,
          "solution": false
        },
        "id": "zi2o9ttsJqgu"
      },
      "outputs": [],
      "source": [
        "## tests ##\n",
        "assert is_even(0) == True\n",
        "assert is_even(101) == False\n",
        "assert is_even(982) == True\n",
        "assert is_even(-5) == False\n",
        "assert is_even(-8) == True"
      ]
    },
    {
      "cell_type": "markdown",
      "metadata": {
        "nbgrader": {
          "grade": false,
          "grade_id": "cell-5ff5517961853849",
          "locked": true,
          "schema_version": 3,
          "solution": false
        },
        "id": "yGDxSBkiJqgv"
      },
      "source": [
        "## Exercise 04.2 (functions and default arguments)\n",
        "\n",
        "Write a single function named `magnitude` that takes each component of a vector of length 2 or 3 and returns the magnitude.\n",
        "Use default arguments to handle vectors of length 2 or 3 with the same code. Test your function for correctness against hand calculations for a selection of values."
      ]
    },
    {
      "cell_type": "code",
      "execution_count": 3,
      "metadata": {
        "nbgrader": {
          "grade": false,
          "grade_id": "cell-693a09b45c6bb532",
          "locked": false,
          "schema_version": 3,
          "solution": true
        },
        "tags": [],
        "id": "YVfBwNZPJqgv",
        "outputId": "08d0d365-1fe2-4c4e-bb12-ae7ee4d8062d",
        "colab": {
          "base_uri": "https://localhost:8080/"
        }
      },
      "outputs": [
        {
          "output_type": "stream",
          "name": "stdout",
          "text": [
            "5.0\n",
            "5.0\n",
            "5.0\n",
            "6.4031242374328485\n"
          ]
        }
      ],
      "source": [
        "import math\n",
        "def magnitude(x, y, z):\n",
        "  return math.sqrt(x**2 + y**2 + z**2);\n",
        "\n",
        "print(magnitude(3, 4, 0.0))\n",
        "print(magnitude(4, 3, 0.0))\n",
        "print(magnitude(4, 0.0, 3.0))\n",
        "print(magnitude(3, 4, 4))"
      ]
    },
    {
      "cell_type": "code",
      "execution_count": null,
      "metadata": {
        "nbgrader": {
          "grade": true,
          "grade_id": "cell-384a85ba97b226d7",
          "locked": true,
          "points": 0,
          "schema_version": 3,
          "solution": false
        },
        "id": "1KLR2NrWJqgv"
      },
      "outputs": [],
      "source": [
        "## tests ##\n",
        "assert math.isclose(magnitude(3, 4), 5.0)\n",
        "assert math.isclose(magnitude(4, 3), 5.0)\n",
        "assert math.isclose(magnitude(4, 3, 0.0), 5.0)\n",
        "assert math.isclose(magnitude(4, 0.0, 3.0), 5.0)\n",
        "assert math.isclose(magnitude(3, 4, 4), 6.403124237)"
      ]
    },
    {
      "cell_type": "markdown",
      "metadata": {
        "nbgrader": {
          "grade": false,
          "grade_id": "cell-668d765c259431ca",
          "locked": true,
          "schema_version": 3,
          "solution": false
        },
        "id": "Br7216vDJqgw"
      },
      "source": [
        "## Exercise 04.3 (functions)\n",
        "\n",
        "Given the coordinates of the vertices of a triangle, $(x_0, y_0)$, $(x_1, y_1)$ and $(x_2, y_2)$, the area $A$ of the triangle is given by:\n",
        "$$\n",
        "A = \\left| \\frac{x_0(y_1  - y_2) + x_1(y_2 - y_0) + x_2(y_0 - y_1)}{2} \\right|\n",
        "$$\n",
        "Write a function named `area` that computes the area of a triangle given the coordinates of the vertices.\n",
        "The order of the function arguments must be (`x0, y0, x1, y1, x2, y2)`.\n",
        "\n",
        "Test the output of your function against some known solutions."
      ]
    },
    {
      "cell_type": "code",
      "execution_count": 4,
      "metadata": {
        "nbgrader": {
          "grade": false,
          "grade_id": "cell-ed02439d4509b2c1",
          "locked": false,
          "schema_version": 3,
          "solution": true
        },
        "tags": [],
        "id": "qQHHcniTJqgw",
        "outputId": "e1bc2274-cad2-4707-dae8-067df3124c54",
        "colab": {
          "base_uri": "https://localhost:8080/"
        }
      },
      "outputs": [
        {
          "output_type": "stream",
          "name": "stdout",
          "text": [
            "3.0\n"
          ]
        }
      ],
      "source": [
        "def area(x0, y0, x1, y1, x2, y2):\n",
        "  return abs((x0 * (y1 - y2) + x1 * (y2 - y0) + x2 * (y0 - y1)) / 2);\n",
        "print(area(0, 0, 0, 2, 3, 0))"
      ]
    },
    {
      "cell_type": "code",
      "execution_count": null,
      "metadata": {
        "nbgrader": {
          "grade": true,
          "grade_id": "cell-64f8b6708595aed3",
          "locked": true,
          "points": 0,
          "schema_version": 3,
          "solution": false
        },
        "id": "bPy0d_ABJqgw"
      },
      "outputs": [],
      "source": [
        "## tests ##\n",
        "x0, y0 = 0.0, 0.0\n",
        "x1, y1 = 0.0, 2.0\n",
        "x2, y2 = 3.0, 0.0\n",
        "A = area(x0, y0, x1, y1, x2, y2)\n",
        "assert math.isclose(A, 3.0)"
      ]
    },
    {
      "cell_type": "markdown",
      "metadata": {
        "nbgrader": {
          "grade": false,
          "grade_id": "cell-45e85991122d3796",
          "locked": true,
          "schema_version": 3,
          "solution": false
        },
        "id": "BE38jPTSJqgx"
      },
      "source": [
        "## Exercise 04.4 (recursion)\n",
        "\n",
        "The factorial of a non-negative integer $n$ is expressed recursively by:\n",
        "$$\n",
        "n! =\n",
        "\\begin{cases}\n",
        "1 & n = 0 \\\\\n",
        "(n - 1)! \\,n & n > 0\n",
        "\\end{cases}\n",
        "$$\n",
        "\n",
        "Develop a function named `factorial` for computing the factorial using recursion.\n",
        "Test your function against the `math.factorial` function, e.g."
      ]
    },
    {
      "cell_type": "code",
      "execution_count": 7,
      "metadata": {
        "nbgrader": {
          "grade": false,
          "grade_id": "cell-680d3c06fd6b37a7",
          "locked": true,
          "schema_version": 3,
          "solution": false
        },
        "id": "yhuuSlDHJqgx",
        "outputId": "f452ad7a-514e-4939-cde3-a3ef852c8ccd",
        "colab": {
          "base_uri": "https://localhost:8080/"
        }
      },
      "outputs": [
        {
          "output_type": "stream",
          "name": "stdout",
          "text": [
            "Factorial of 0: 1\n",
            "Factorial of 1: 1\n",
            "Factorial of 2: 2\n",
            "Factorial of 5: 120\n",
            "Reference factorial: 120\n",
            "Error: 0\n",
            "Factorial of 32: 263130836933693530167218012160000000\n",
            "Reference factorial: 263130836933693530167218012160000000\n",
            "Error: 0\n"
          ]
        }
      ],
      "source": [
        "import math\n",
        "def factorial(n):\n",
        "  if n == 0:\n",
        "    return 1;\n",
        "  elif n > 0:\n",
        "    return n*factorial(n-1);\n",
        "  elif n < 0:\n",
        "    return (\"INVALID\");\n",
        "print(\"Factorial of 0:\", factorial(0))\n",
        "print(\"Factorial of 1:\", factorial(1))\n",
        "print(\"Factorial of 2:\", factorial(2))\n",
        "print(\"Factorial of 5:\", factorial(5))\n",
        "print(\"Reference factorial:\", math.factorial(5))\n",
        "error5 = abs(factorial(5) - math.factorial(5))\n",
        "print(\"Error:\", error5)\n",
        "print(\"Factorial of 32:\", factorial(32))\n",
        "print(\"Reference factorial:\", math.factorial(32))\n",
        "error32 = abs(factorial(32) - math.factorial(32))\n",
        "print(\"Error:\", error32)"
      ]
    },
    {
      "cell_type": "code",
      "execution_count": null,
      "metadata": {
        "nbgrader": {
          "grade": false,
          "grade_id": "cell-9591c1fc1c49c167",
          "locked": false,
          "schema_version": 3,
          "solution": true
        },
        "tags": [],
        "id": "DCHXOdQMJqgx"
      },
      "outputs": [],
      "source": [
        "...\n",
        "\n",
        "print(\"Factorial of 5:\", factorial(5))\n",
        "\n",
        "import math\n",
        "print(\"Reference value of factorial of 5:\", math.factorial(5))"
      ]
    },
    {
      "cell_type": "code",
      "execution_count": 8,
      "metadata": {
        "nbgrader": {
          "grade": true,
          "grade_id": "cell-ffe589e9fb2f1419",
          "locked": true,
          "points": 0,
          "schema_version": 3,
          "solution": false
        },
        "id": "oHp8MZFjJqgy"
      },
      "outputs": [],
      "source": [
        "## tests ##\n",
        "assert factorial(0) == 1\n",
        "assert factorial(1) == 1\n",
        "assert factorial(2) == 2\n",
        "assert factorial(5) == 120\n",
        "\n",
        "import math\n",
        "assert factorial(32) == math.factorial(32)"
      ]
    },
    {
      "cell_type": "markdown",
      "metadata": {
        "id": "oi0u9X-aJqgy"
      },
      "source": [
        "## Exercise 04.5 (functions and passing functions as arguments)\n",
        "\n",
        "Restructure your program from the bisection problem in Exercise 02 to\n",
        "\n",
        "- Use a Python function to evaluate the mathematical function $f$ that we want to find the root of;\n",
        "\n",
        "and then\n",
        "\n",
        "- Encapsulate the bisection algorithm inside a Python function, which takes as arguments:\n",
        "  1. the function we want to find the roots of\n",
        "  1. the points $x_{0}$ and $x_{1}$ between which we want to search for a root\n",
        "  1. the tolerance for exiting the bisection algorithm (exit when $|f(x)| < \\text{tol}$)\n",
        "  1. maximum number of iterations (the algorithm should exit once this limit is reached)\n",
        "\n",
        "For the first step, create a Python function for evaluating $f$, e.g.:\n",
        "```python\n",
        "def f(x):\n",
        "    # Put body of the function f(x) here, returning the function value\n",
        "```           \n",
        "For the second step, encapsulate the bisection algorithm in a function:\n",
        "```python\n",
        "def compute_root(f, x0, x1, tol, max_it):\n",
        "\n",
        "    # Implement bisection algorithm here, and return when tolerance is satisfied or\n",
        "    # number of iterations exceeds max_it\n",
        "\n",
        "    # Return the approximate root, value of f(x) and the number of iterations\n",
        "    return x, f, num_it\n",
        "\n",
        "# Compute approximate root of the function f\n",
        "x, f_x, num_it = compute_root(f, x0=0, x1=1, tol=1.0e-6, max_it=1000)\n",
        "```\n",
        "\n",
        "You can try testing your program for a function $f(x)$ that is simpler from the function Exercise 02, e.g. $f(x) = x - 4$.\n",
        "A quadratic function, the roots of which you can find analytically, would be a good test case."
      ]
    },
    {
      "cell_type": "markdown",
      "metadata": {
        "id": "YRaryiWQJqgy"
      },
      "source": [
        "### Solution\n",
        "\n",
        "Define the function for computing $f(x)$:"
      ]
    },
    {
      "cell_type": "code",
      "execution_count": 2,
      "metadata": {
        "nbgrader": {
          "grade": false,
          "grade_id": "cell-a9cacdc8d223e7a4",
          "locked": true,
          "schema_version": 3,
          "solution": false
        },
        "tags": [],
        "id": "gtvN0zj7Jqgy",
        "outputId": "eda602b0-cb04-4709-a8ee-e9673b8485d9",
        "colab": {
          "base_uri": "https://localhost:8080/"
        }
      },
      "outputs": [
        {
          "output_type": "stream",
          "name": "stdout",
          "text": [
            "Enter a number5\n",
            "214.5\n"
          ]
        }
      ],
      "source": [
        "def my_f(x):\n",
        "    return x**5 / 10 + x**3 - 10 * x**2 + 4 * x + 7\n",
        "x = int(input(\"Enter a number\"))\n",
        "result = my_f(x)\n",
        "print(result)"
      ]
    },
    {
      "cell_type": "code",
      "execution_count": 6,
      "metadata": {
        "nbgrader": {
          "grade": false,
          "grade_id": "cell-622edcb129dcc7f2",
          "locked": false,
          "schema_version": 3,
          "solution": true
        },
        "tags": [],
        "id": "2et8mQ1JJqgz",
        "outputId": "961de46e-0815-434b-d837-36aa24489160",
        "colab": {
          "base_uri": "https://localhost:8080/"
        }
      },
      "outputs": [
        {
          "output_type": "stream",
          "name": "stdout",
          "text": [
            "Root: 1.1568354368209839, Function Value: 3.9180508970559913e-07, Iterations: 23\n"
          ]
        }
      ],
      "source": [
        "# Create the function that performs the bisection:\n",
        "import math\n",
        "def compute_root(f, x0, x1, tol, max_it):\n",
        "    it = 0\n",
        "    while it < max_it:\n",
        "        x_mid = (x0 + x1) / 2\n",
        "        f0 = (x0**5) / 10 + x0**3 - 10 * x0**2 + 4 * x0 + 7\n",
        "        f_mid = (x_mid**5) / 10 + x_mid**3 - 10 * x_mid**2 + 4 * x_mid + 7\n",
        "        if abs(f_mid) < tol:\n",
        "            return x_mid, f_mid, it\n",
        "        product = f0 * f_mid\n",
        "        if product < 0:\n",
        "            x1 = x_mid\n",
        "        else:\n",
        "            x0 = x_mid\n",
        "        it += 1\n",
        "    return x_mid, f_mid, it\n",
        "\n",
        "# Call the function with initial guesses and print results\n",
        "x, f, num_it = compute_root((x**5) / 10 + x**3 - 10 * x**2 + 4 * x + 7, x0=0, x1=2, tol=1.0e-6, max_it=1000)\n",
        "print(f\"Root: {x}, Function Value: {f}, Iterations: {num_it}\")\n"
      ]
    },
    {
      "cell_type": "code",
      "execution_count": 7,
      "metadata": {
        "nbgrader": {
          "grade": true,
          "grade_id": "cell-cb5a5cdf1d790edb",
          "locked": true,
          "points": 0,
          "schema_version": 3,
          "solution": false
        },
        "id": "Dv-Q5OG4Jqgz"
      },
      "outputs": [],
      "source": [
        "## tests ##\n",
        "\n",
        "x, f, num_it = compute_root(my_f, x0=0, x1=2, tol=1.0e-6, max_it=1000)\n",
        "\n",
        "# Test solution for function in Exercise 02\n",
        "assert math.isclose(x, 1.1568354368209839)"
      ]
    },
    {
      "cell_type": "markdown",
      "metadata": {
        "id": "a3296pQxJqgz"
      },
      "source": [
        "#### Optional extension\n",
        "\n",
        "Use recursion to write a `compute_root` function that *does not* require a `for` or `while` loop."
      ]
    },
    {
      "cell_type": "code",
      "execution_count": null,
      "metadata": {
        "nbgrader": {
          "grade": false,
          "grade_id": "cell-c944bb2229317d4d",
          "locked": false,
          "schema_version": 3,
          "solution": true
        },
        "tags": [],
        "id": "iInsx-Y4Jqgz"
      },
      "outputs": [],
      "source": [
        "def compute_root(f, x0, x1, tol, max_it, it_count=0):\n",
        "    ...\n",
        "\n",
        "    # Call compute_root recursively\n",
        "    return compute_root(f, x0, x1, tol, max_it, it_count)"
      ]
    },
    {
      "cell_type": "code",
      "execution_count": null,
      "metadata": {
        "nbgrader": {
          "grade": true,
          "grade_id": "cell-9ebe2f13b2899a8f",
          "locked": true,
          "points": 0,
          "schema_version": 3,
          "solution": false
        },
        "id": "pKUPdV67Jqgz"
      },
      "outputs": [],
      "source": [
        "## tests ##\n",
        "x, f, num_it = compute_root(my_f, x0=0, x1=2, tol=1.0e-6, max_it=1000)\n",
        "assert math.isclose(x, 1.1568354368209839)"
      ]
    }
  ],
  "metadata": {
    "celltoolbar": "Create Assignment",
    "kernelspec": {
      "display_name": "Python 3 (ipykernel)",
      "language": "python",
      "name": "python3"
    },
    "language_info": {
      "codemirror_mode": {
        "name": "ipython",
        "version": 3
      },
      "file_extension": ".py",
      "mimetype": "text/x-python",
      "name": "python",
      "nbconvert_exporter": "python",
      "pygments_lexer": "ipython3",
      "version": "3.10.6"
    },
    "otter": {
      "OK_FORMAT": true,
      "assignment_name": "Exercises 4",
      "tests": {}
    },
    "colab": {
      "provenance": []
    }
  },
  "nbformat": 4,
  "nbformat_minor": 0
}