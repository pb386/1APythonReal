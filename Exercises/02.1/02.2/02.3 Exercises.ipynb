{
  "cells": [
    {
      "cell_type": "markdown",
      "metadata": {
        "id": "aempV3W1bgF5"
      },
      "source": [
        "## Exercise 02.1 (if-else)\n",
        "\n",
        "Consider the following assessment criteria which map a score out of 100 to an\n",
        "assessment grade:\n",
        "\n",
        "| Grade            | Raw score  (/100)      |\n",
        "| ---------------- | ---------------------- |\n",
        "| Excellent        | $\\ge 85$               |\n",
        "| Very good        | $\\ge 76.5$ and $< 85$  |\n",
        "| Good             | $\\ge 64$ and $< 76.5$  |\n",
        "| Need improvement | $\\ge 40$ and $< 64$    |\n",
        "| Did you try?     | $< 40$                 |\n",
        "\n",
        "Write a program that, given an a score, prints the appropriate grade. Print an error message if the input score is greater than 100 or less than zero."
      ]
    },
    {
      "cell_type": "code",
      "execution_count": 6,
      "metadata": {
        "nbgrader": {
          "grade": false,
          "grade_id": "cell-71121f470be22e4a",
          "locked": false,
          "schema_version": 3,
          "solution": true
        },
        "tags": [],
        "id": "TSqrIO7lbgF_",
        "outputId": "ca884a3b-4db3-4c35-ffd5-9103e5377b36",
        "colab": {
          "base_uri": "https://localhost:8080/"
        }
      },
      "outputs": [
        {
          "output_type": "stream",
          "name": "stdout",
          "text": [
            "Good\n"
          ]
        }
      ],
      "source": [
        "# Score from user\n",
        "score = 72\n",
        "if score > 100 or score < 0:\n",
        "  print(\"ERROR: INVALID SCORE\")\n",
        "elif 0 < score < 40:\n",
        "  print(\"Did you try?\")\n",
        "elif 40 <= score < 64:\n",
        "  print(\"Need improvement\")\n",
        "elif 64 <= score < 76.5:\n",
        "  print(\"Good\")\n",
        "elif 76.5 <= score < 85:\n",
        "  print(\"Very good\")\n",
        "elif score >= 85:\n",
        "  print(\"Excellent\")"
      ]
    },
    {
      "cell_type": "markdown",
      "metadata": {
        "id": "1JfrlRpabgGB"
      },
      "source": [
        "## Exercise 02.2 (bisection)\n",
        "\n",
        "Bisection is an iterative method for finding approximate roots of a function. Say we know that the function $f(x)$ has one root between $x_{0}$ and $x_{1}$ ($x_{0} < x_{1}$). We then:\n",
        "\n",
        "- Evaluate $f$ at the midpoint $x_{\\rm mid} = (x_0 + x_1)/2$, i.e. compute\n",
        "   $f_{\\rm mid} = f(x_{\\rm mid})$\n",
        "- Evaluate $f(x_0) \\cdot f(x_{\\rm mid})$\n",
        "\n",
        "  - if $f(x_0) \\cdot f(x_{\\rm mid}) < 0$:\n",
        "\n",
        "    $f$ must change sign somewhere between $x_0$ and $x_{\\rm mid}$, hence the root must lie between\n",
        "    $x_0$ and $x_{\\rm mid}$, so set $x_1 = x_{\\rm mid}$.\n",
        "   \n",
        "  - else:\n",
        "\n",
        "    $f$ must change sign somewhere between $x_{\\rm mid}$ and $x_1$, so set\n",
        "    $x_0 = x_{\\rm mid}$.\n",
        "\n",
        "The above steps can be repeated a specified number of times, or until $|f_{\\rm mid}|$\n",
        "is below a tolerance, with $x_{\\rm mid}$ being the approximate root.\n",
        "\n",
        "\n",
        "### Task\n",
        "\n",
        "The function\n",
        "\n",
        "$$\n",
        "f(x) = \\frac{x^{5}}{10} + x^3 - 10x^2 + 4x + 7\n",
        "$$\n",
        "\n",
        "\n",
        "has one root in the range $0 < x < 2$.\n",
        "\n",
        "1. Use the bisection method to find an approximate root $x_{r}$ using 20 iterations\n",
        "   (use a `for` loop).\n",
        "2. Use the bisection method to find an approximate root $x_{r}$ such that\n",
        "   $\\left| f(x_{r}) \\right| < 1 \\times 10^{-6}$ and report the number of iterations\n",
        "   required (use a `while` loop).\n",
        "\n",
        "Store the approximate root using the variable `x_mid`, and store $f(x_{\\rm mid})$ using the variable `f`.\n",
        "\n",
        "*Hint:* Use  `abs` to compute the absolute value of a number, e.g. `y = abs(x)` assigns the absolute value of `x` to `y`."
      ]
    },
    {
      "cell_type": "markdown",
      "metadata": {
        "id": "mMor9xKnbgGC"
      },
      "source": [
        "#### (1) Using a `for` loop."
      ]
    },
    {
      "cell_type": "code",
      "execution_count": 9,
      "metadata": {
        "nbgrader": {
          "grade": false,
          "grade_id": "cell-3a0d0a59613d6b3f",
          "locked": false,
          "schema_version": 3,
          "solution": true
        },
        "tags": [],
        "id": "C3CyWShZbgGC",
        "outputId": "740c62f0-d07b-47f6-9f01-d20fd8f25dbf",
        "colab": {
          "base_uri": "https://localhost:8080/"
        }
      },
      "outputs": [
        {
          "output_type": "stream",
          "name": "stdout",
          "text": [
            "0 1.0 2.0999999999999996\n",
            "1 1.5 -5.365625000000001\n",
            "2 1.25 -1.36669921875\n",
            "3 1.125 0.4477813720703132\n",
            "4 1.1875 -0.4408627510070797\n",
            "5 1.15625 0.008327355980872753\n",
            "6 1.171875 -0.21507753478363156\n",
            "7 1.1640625 -0.1030741602036862\n",
            "8 1.16015625 -0.04729774910292761\n",
            "9 1.158203125 -0.019466230897839054\n",
            "10 1.1572265625 -0.005564689502373099\n",
            "11 1.15673828125 0.0013825210451265946\n",
            "12 1.156982421875 -0.0020907873792292975\n",
            "13 1.1568603515625 -0.00035405894194262544\n",
            "14 1.15679931640625 0.0005142496094645566\n",
            "15 1.156829833984375 8.009997302949046e-05\n",
            "16 1.1568450927734375 -0.00013697832466341708\n",
            "17 1.1568374633789062 -2.8438885864900953e-05\n",
            "18 1.1568336486816406 2.5830616070976475e-05\n",
            "19 1.1568355560302734 -1.304116775457942e-06\n",
            "20 1.156834602355957 1.2263254177469207e-05\n",
            "21 1.1568350791931152 5.479569834321296e-06\n",
            "22 1.1568353176116943 2.087726812760593e-06\n",
            "23 1.1568354368209839 3.9180508970559913e-07\n",
            "24 1.1568354964256287 -4.561558260007814e-07\n",
            "25 1.1568354666233063 -3.2175364594877465e-08\n",
            "26 1.156835451722145 1.7981486344353925e-07\n",
            "27 1.1568354591727257 7.381975208886615e-08\n",
            "28 1.156835462898016 2.0822191970637505e-08\n",
            "29 1.1568354647606611 -5.67658631211998e-09\n",
            "30 1.1568354638293386 7.572804605615602e-09\n",
            "31 1.1568354642949998 9.481091467478109e-10\n",
            "32 1.1568354645278305 -2.3642385826860846e-09\n",
            "33 1.1568354644114152 -7.080647179691368e-10\n",
            "34 1.1568354643532075 1.2002310256775672e-10\n",
            "35 1.1568354643823113 -2.9401903134385066e-10\n",
            "36 1.1568354643677594 -8.700062892330607e-11\n",
            "37 1.1568354643604835 1.6511236822225328e-11\n",
            "38 1.1568354643641214 -3.524291969370097e-11\n",
            "39 1.1568354643623024 -9.36672961415752e-12\n",
            "40 1.156835464361393 3.5722536040339037e-12\n",
            "41 1.1568354643618477 -2.8972380050618085e-12\n",
            "42 1.1568354643616203 3.3928415632544784e-13\n",
            "43 1.156835464361734 -1.2807532812075806e-12\n",
            "44 1.1568354643616772 -4.725109192804666e-13\n",
            "45 1.1568354643616487 -6.572520305780927e-14\n",
            "46 1.1568354643616345 1.3677947663381929e-13\n",
            "47 1.1568354643616416 3.552713678800501e-14\n",
            "48 1.1568354643616452 -1.4210854715202004e-14\n",
            "49 1.1568354643616434 8.881784197001252e-15\n"
          ]
        }
      ],
      "source": [
        "# Initial end points\n",
        "x0 = 0.0\n",
        "x1 = 2.0\n",
        "\n",
        "# Use 20 iterations\n",
        "for n in range(0,50):\n",
        "    # Compute midpoint\n",
        "    x_mid = (x0 + x1) / 2\n",
        "\n",
        "    # Evaluate function at (i) left end-point and at (ii) midpoint\n",
        "    f0 = (x0**5) / 10 + x0**3 - 10 * x0**2 + 4 * x0 + 7\n",
        "    f = (x_mid**5) / 10 + x_mid**3 - 10 * x_mid**2 + 4 * x_mid + 7\n",
        "    product = f0*f\n",
        "    if product < 0:\n",
        "      x1 = x_mid\n",
        "    else:\n",
        "      x0 = x_mid\n",
        "    print(n, x_mid, f)"
      ]
    },
    {
      "cell_type": "code",
      "execution_count": 3,
      "metadata": {
        "nbgrader": {
          "grade": true,
          "grade_id": "cell-421824bbd4e61fae",
          "locked": true,
          "points": 0,
          "schema_version": 3,
          "solution": false
        },
        "id": "-AHHBZ7vbgGD",
        "outputId": "3a255a2e-0694-4abc-e6f8-f91122a916a5",
        "colab": {
          "base_uri": "https://localhost:8080/",
          "height": 193
        }
      },
      "outputs": [
        {
          "output_type": "error",
          "ename": "AssertionError",
          "evalue": "",
          "traceback": [
            "\u001b[0;31m---------------------------------------------------------------------------\u001b[0m",
            "\u001b[0;31mAssertionError\u001b[0m                            Traceback (most recent call last)",
            "\u001b[0;32m<ipython-input-3-2fa7a19f1e12>\u001b[0m in \u001b[0;36m<cell line: 3>\u001b[0;34m()\u001b[0m\n\u001b[1;32m      1\u001b[0m \u001b[0;31m## tests ##\u001b[0m\u001b[0;34m\u001b[0m\u001b[0;34m\u001b[0m\u001b[0m\n\u001b[1;32m      2\u001b[0m \u001b[0;32mimport\u001b[0m \u001b[0mmath\u001b[0m\u001b[0;34m\u001b[0m\u001b[0;34m\u001b[0m\u001b[0m\n\u001b[0;32m----> 3\u001b[0;31m \u001b[0;32massert\u001b[0m \u001b[0mmath\u001b[0m\u001b[0;34m.\u001b[0m\u001b[0misclose\u001b[0m\u001b[0;34m(\u001b[0m\u001b[0mx_mid\u001b[0m\u001b[0;34m,\u001b[0m \u001b[0;36m1.1568355560302734\u001b[0m\u001b[0;34m)\u001b[0m\u001b[0;34m\u001b[0m\u001b[0;34m\u001b[0m\u001b[0m\n\u001b[0m\u001b[1;32m      4\u001b[0m \u001b[0;32massert\u001b[0m \u001b[0mabs\u001b[0m\u001b[0;34m(\u001b[0m\u001b[0mf\u001b[0m\u001b[0;34m)\u001b[0m \u001b[0;34m<\u001b[0m \u001b[0;36m1e-5\u001b[0m\u001b[0;34m\u001b[0m\u001b[0;34m\u001b[0m\u001b[0m\n",
            "\u001b[0;31mAssertionError\u001b[0m: "
          ]
        }
      ],
      "source": [
        "## tests ##\n",
        "import math\n",
        "assert math.isclose(x_mid, 1.1568355560302734)\n",
        "assert abs(f) < 1e-5"
      ]
    },
    {
      "cell_type": "markdown",
      "metadata": {
        "id": "DsleJuRsbgGD"
      },
      "source": [
        "#### (2) Using a `while` loop\n",
        "\n",
        "Use the variable `counter` for the iteration number.\n",
        "\n",
        "*Remember to guard against infinite loops.*"
      ]
    },
    {
      "cell_type": "code",
      "execution_count": 13,
      "metadata": {
        "nbgrader": {
          "grade": false,
          "grade_id": "cell-1747a3fb1dd1de48",
          "locked": false,
          "schema_version": 3,
          "solution": true
        },
        "tags": [],
        "id": "GZPWMDZMbgGE",
        "outputId": "6a659011-4a1c-4723-84c7-aaacd0ce6342",
        "colab": {
          "base_uri": "https://localhost:8080/"
        }
      },
      "outputs": [
        {
          "output_type": "stream",
          "name": "stdout",
          "text": [
            "1 1.0 1.0\n",
            "1 1.5 1.0\n",
            "1 1.25 1.0\n",
            "2 1.125 0.125\n",
            "2 1.1875 0.125\n",
            "3 1.15625 0.03125\n",
            "3 1.171875 0.03125\n",
            "3 1.1640625 0.03125\n",
            "3 1.16015625 0.03125\n",
            "3 1.158203125 0.03125\n",
            "3 1.1572265625 0.03125\n",
            "4 1.15673828125 0.00048828125\n",
            "4 1.156982421875 0.00048828125\n",
            "4 1.1568603515625 0.00048828125\n",
            "5 1.15679931640625 6.103515625e-05\n",
            "6 1.156829833984375 3.0517578125e-05\n",
            "6 1.1568450927734375 3.0517578125e-05\n",
            "6 1.1568374633789062 3.0517578125e-05\n",
            "7 1.1568336486816406 3.814697265625e-06\n",
            "7 1.1568355560302734 3.814697265625e-06\n",
            "8 1.156834602355957 9.5367431640625e-07\n"
          ]
        }
      ],
      "source": [
        "# Initial end points\n",
        "x0 = 0.0\n",
        "x1 = 2.0\n",
        "\n",
        "tol = 1.0e-6\n",
        "error = tol + 1.0\n",
        "\n",
        "# Iterate until tolerance is met\n",
        "counter = 0\n",
        "while error > tol:\n",
        "    x_mid = (x0 + x1) / 2\n",
        "\n",
        "    # Evaluate function at (i) left end-point and at (ii) midpoint\n",
        "    f0 = (x0**5) / 10 + x0**3 - 10 * x0**2 + 4 * x0 + 7\n",
        "    f = (x_mid**5) / 10 + x_mid**3 - 10 * x_mid**2 + 4 * x_mid + 7\n",
        "    product = f0*f\n",
        "    if product < 0:\n",
        "      x1 = x_mid\n",
        "    else:\n",
        "      x0 = x_mid\n",
        "      counter +=1\n",
        "      error = abs(x1-x0)\n",
        "    # Guard against an infinite loop\n",
        "    if counter > 100:\n",
        "        print(\"Oops, iteration count is very large. Breaking out of while loop.\")\n",
        "        break\n",
        "\n",
        "    print(counter, x_mid, error)"
      ]
    },
    {
      "cell_type": "code",
      "execution_count": null,
      "metadata": {
        "nbgrader": {
          "grade": true,
          "grade_id": "cell-ddff32f44df88388",
          "locked": true,
          "points": 0,
          "schema_version": 3,
          "solution": false
        },
        "tags": [],
        "id": "AOoReBYlbgGE"
      },
      "outputs": [],
      "source": [
        "## tests ##\n",
        "assert counter == 24\n",
        "assert abs(f) < 1.0e-6"
      ]
    },
    {
      "cell_type": "markdown",
      "metadata": {
        "id": "6GOBWqkSbgGF"
      },
      "source": [
        "## Exercise 02.3 (series expansion)\n",
        "\n",
        "For $|x| < 1$ the series:\n",
        "\n",
        "$$\n",
        "(1 + x)^{-1/2} = \\sum_{n = 0}^{\\infty} \\frac{(-1)^n (2n)!}{4^n (n!)^2} x^n\n",
        "$$\n",
        "\n",
        "converges.\n",
        "\n",
        "1. Using a `for` statement, approximate $1/\\sqrt{0.16}$ using 30 terms in the series expansion and report the absolute error.\n",
        "\n",
        "1. Using a `while` statement, compute how many terms in the series are required to approximate $1/\\sqrt{0.16}$ to within $1 \\times 10^{-5}$.\n",
        "\n",
        "Store the absolute value of the error in the variable `error`.\n",
        "\n",
        "### Hints\n",
        "\n",
        "To compute the factorial, use the Python `math` module:\n",
        "```python\n",
        "import math\n",
        "nfact = math.factorial(10)\n",
        "```\n",
        "You only need `import math` once at the top of your program. Standard modules, like `math`, will be explained in a later\n",
        "\n",
        "<!-- The power series expansion for the sine function is:\n",
        "\n",
        "$$\n",
        "\\sin(x) = \\sum_{n = 0}^{\\infty} (-1)^n \\frac{x^{2n +1}}{(2n+1)!}\n",
        "$$\n",
        "\n",
        "(See mathematics data book for a less compact version; this compact version is preferred here as it is simpler to program.)\n",
        "\n",
        "1. Using a `for` statement, approximate $\\sin(3\\pi/2)$ using 15 terms in the series expansion and report the absolute error.\n",
        "\n",
        "1. Using a `while` statement, compute how many terms in the series are required to approximate $\\sin(3\\pi/2)$ to within $1 \\times 10^{-8}$.\n",
        "\n",
        "Store the absolute value of the error in the variable `error`.\n",
        "\n",
        "*Note:* Calculators and computers use iterative or series expansions to compute trigonometric functions, similar to the one above (although they use more efficient formulations than the above series).\n",
        "\n",
        "### Hints\n",
        "\n",
        "To compute the factorial and to get a good approximation of $\\pi$, use the Python `math` module:\n",
        "```python\n",
        "import math\n",
        "nfact = math.factorial(10)\n",
        "pi = math.pi\n",
        "```\n",
        "You only need '`import math`' once at the top of your program. Standard modules, like `math`, will be explained in a later. If you want to test for angles for which sine is not simple, you can use\n",
        "```python\n",
        "a = 1.3\n",
        "s = math.sin(a)\n",
        "```    \n",
        "to get an accurate computation of sine to check the error. -->"
      ]
    },
    {
      "cell_type": "markdown",
      "metadata": {
        "id": "t-wPKpyLbgGF"
      },
      "source": [
        "#### (1) Using a `for` loop"
      ]
    },
    {
      "cell_type": "code",
      "execution_count": 21,
      "metadata": {
        "nbgrader": {
          "grade": false,
          "grade_id": "cell-d6df4b428f969a5d",
          "locked": false,
          "schema_version": 3,
          "solution": true
        },
        "tags": [],
        "id": "W6IVruMbbgGG",
        "outputId": "fc531d08-652c-4034-bc53-54dca32135c7",
        "colab": {
          "base_uri": "https://localhost:8080/"
        }
      },
      "outputs": [
        {
          "output_type": "stream",
          "name": "stdout",
          "text": [
            "2.5\n",
            "1.0\n",
            "The error is:\n",
            "1.5\n",
            "1.42\n",
            "The error is:\n",
            "1.08\n",
            "1.6845999999999999\n",
            "The error is:\n",
            "0.8154000000000001\n",
            "1.8698199999999998\n",
            "The error is:\n",
            "0.6301800000000002\n",
            "2.0059566999999996\n",
            "The error is:\n",
            "0.4940433000000004\n",
            "2.1088760451999997\n",
            "The error is:\n",
            "0.3911239548000003\n",
            "2.1881239410039997\n",
            "The error is:\n",
            "0.31187605899600035\n",
            "2.2499372997311196\n",
            "The error is:\n",
            "0.25006270026888044\n",
            "2.2986153197287265\n",
            "The error is:\n",
            "0.20138468027127354\n",
            "2.3372332155934945\n",
            "The error is:\n",
            "0.1627667844065055\n",
            "2.3680502964935797\n",
            "The error is:\n",
            "0.13194970350642032\n",
            "2.3927599922698297\n",
            "The error is:\n",
            "0.10724000773017028\n",
            "2.412651297369711\n",
            "The error is:\n",
            "0.08734870263028904\n",
            "2.428717351488846\n",
            "The error is:\n",
            "0.07128264851115418\n",
            "2.441730855325345\n",
            "The error is:\n",
            "0.05826914467465505\n",
            "2.4522978204405823\n",
            "The error is:\n",
            "0.04770217955941769\n",
            "2.460896688303107\n",
            "The error is:\n",
            "0.03910331169689307\n",
            "2.4679072946898475\n",
            "The error is:\n",
            "0.032092705310152514\n",
            "2.473632623239019\n",
            "The error is:\n",
            "0.02636737676098111\n",
            "2.478315339326078\n",
            "The error is:\n",
            "0.02168466067392183\n",
            "2.4821504838013797\n",
            "The error is:\n",
            "0.017849516198620297\n",
            "2.485295302271127\n",
            "The error is:\n",
            "0.01470469772887295\n",
            "2.4878769123422013\n",
            "The error is:\n",
            "0.012123087657798681\n",
            "2.4899983223571276\n",
            "The error is:\n",
            "0.010001677642872409\n",
            "2.4917431820944045\n",
            "The error is:\n",
            "0.008256817905595515\n",
            "2.493179550630131\n",
            "The error is:\n",
            "0.0068204493698691415\n",
            "2.4943628973237946\n",
            "The error is:\n",
            "0.00563710267620543\n",
            "2.495338500931237\n",
            "The error is:\n",
            "0.004661499068762787\n",
            "2.4961433739073775\n",
            "The error is:\n",
            "0.003856626092622495\n",
            "2.4968078104263016\n",
            "The error is:\n",
            "0.0031921895736983785\n"
          ]
        }
      ],
      "source": [
        "# Import the math module to access math.factorial\n",
        "import math\n",
        "\n",
        "# Value of x (such that (1 + x) = 0.16\n",
        "x0 = -0.84\n",
        "print(0.16**-0.5)\n",
        "# Initialise approximation of the function\n",
        "approx_f = 0.0\n",
        "for n in range(0,30):\n",
        "  x = (-1)**n * math.factorial(2*n) * 1/(4**n * math.factorial(n)**2) * x0**n\n",
        "  approx_f += x\n",
        "  print(approx_f)\n",
        "  error = abs(approx_f-(0.16**-0.5))\n",
        "  print(\"The error is:\")\n",
        "  print(error)"
      ]
    },
    {
      "cell_type": "code",
      "execution_count": null,
      "metadata": {
        "nbgrader": {
          "grade": true,
          "grade_id": "cell-8b269b717e92414d",
          "locked": true,
          "points": 0,
          "schema_version": 3,
          "solution": false
        },
        "id": "9TMKbxLhbgGG"
      },
      "outputs": [],
      "source": [
        "## test ##\n",
        "assert error < 1.0e-2"
      ]
    },
    {
      "cell_type": "markdown",
      "metadata": {
        "id": "kyXnGoEibgGG"
      },
      "source": [
        "#### (2) Using a `while` loop\n",
        "\n",
        "*Remember to guard against infinite loops.*"
      ]
    },
    {
      "cell_type": "code",
      "execution_count": 23,
      "metadata": {
        "nbgrader": {
          "grade": false,
          "grade_id": "cell-03df25d83df3674e",
          "locked": false,
          "schema_version": 3,
          "solution": true
        },
        "tags": [],
        "id": "A5zKJxAPbgGG",
        "outputId": "5499906b-101c-4038-8af4-a7f05578a147",
        "colab": {
          "base_uri": "https://localhost:8080/"
        }
      },
      "outputs": [
        {
          "output_type": "stream",
          "name": "stdout",
          "text": [
            "1.0\n",
            "1.5\n",
            "1.42\n",
            "1.08\n",
            "1.6845999999999999\n",
            "0.8154000000000001\n",
            "1.8698199999999998\n",
            "0.6301800000000002\n",
            "2.0059566999999996\n",
            "0.4940433000000004\n",
            "2.1088760451999997\n",
            "0.3911239548000003\n",
            "2.1881239410039997\n",
            "0.31187605899600035\n",
            "2.2499372997311196\n",
            "0.25006270026888044\n",
            "2.2986153197287265\n",
            "0.20138468027127354\n",
            "2.3372332155934945\n",
            "0.1627667844065055\n",
            "2.3680502964935797\n",
            "0.13194970350642032\n",
            "2.3927599922698297\n",
            "0.10724000773017028\n",
            "2.412651297369711\n",
            "0.08734870263028904\n",
            "2.428717351488846\n",
            "0.07128264851115418\n",
            "2.441730855325345\n",
            "0.05826914467465505\n",
            "2.4522978204405823\n",
            "0.04770217955941769\n",
            "2.460896688303107\n",
            "0.03910331169689307\n",
            "2.4679072946898475\n",
            "0.032092705310152514\n",
            "2.473632623239019\n",
            "0.02636737676098111\n",
            "2.478315339326078\n",
            "0.02168466067392183\n",
            "2.4821504838013797\n",
            "0.017849516198620297\n",
            "2.485295302271127\n",
            "0.01470469772887295\n",
            "2.4878769123422013\n",
            "0.012123087657798681\n",
            "2.4899983223571276\n",
            "0.010001677642872409\n",
            "2.4917431820944045\n",
            "0.008256817905595515\n",
            "2.493179550630131\n",
            "0.0068204493698691415\n",
            "2.4943628973237946\n",
            "0.00563710267620543\n",
            "2.495338500931237\n",
            "0.004661499068762787\n",
            "2.4961433739073775\n",
            "0.003856626092622495\n",
            "2.4968078104263016\n",
            "0.0031921895736983785\n",
            "2.497356634990933\n",
            "0.0026433650090669225\n",
            "2.4978102119375736\n",
            "0.002189788062426423\n",
            "2.4981852633753268\n",
            "0.001814736624673241\n",
            "2.4984955332011043\n",
            "0.0015044667988957094\n",
            "2.498752327109851\n",
            "0.001247672890149154\n",
            "2.498964952466293\n",
            "0.0010350475337070897\n",
            "2.499141077136546\n",
            "0.0008589228634541257\n",
            "2.499287022606545\n",
            "0.0007129773934551054\n",
            "2.499408003719833\n",
            "0.0005919962801668177\n",
            "2.4995083249814676\n",
            "0.0004916750185324226\n",
            "2.4995915414679937\n",
            "0.0004084585320063283\n",
            "2.499660590855106\n",
            "0.0003394091448938319\n",
            "2.4997179018464095\n",
            "0.00028209815359048207\n",
            "2.499765483297329\n",
            "0.00023451670267116143\n",
            "2.499804997529524\n",
            "0.00019500247047599117\n",
            "2.4998378206850673\n",
            "0.00016217931493267557\n",
            "2.499865092446043\n",
            "0.0001349075539569533\n",
            "2.4998877570201645\n",
            "0.00011224297983547515\n",
            "2.499906596947403\n",
            "9.340305259719628e-05\n",
            "2.4999222610011924\n",
            "7.773899880758606e-05\n",
            "2.499935287228324\n",
            "6.471277167596767e-05\n",
            "2.4999461219843027\n",
            "5.387801569733952e-05\n",
            "2.4999551356678342\n",
            "4.486433216577268e-05\n",
            "2.4999626357328104\n",
            "3.736426718958796e-05\n",
            "2.4999688774535516\n",
            "3.1122546448436594e-05\n",
            "2.499974072834925\n",
            "2.5927165074879355e-05\n",
            "2.4999783979899184\n",
            "2.1602010081611667e-05\n",
            "2.49998199925055\n",
            "1.800074945013108e-05\n",
            "2.499984998231386\n",
            "1.500176861402025e-05\n",
            "2.4999874960266113\n",
            "1.2503973388700018e-05\n",
            "2.4999895766900337\n",
            "1.0423309966256511e-05\n",
            "2.4999913101214295\n",
            "8.689878570500298e-06\n",
            "\n",
            "The error is: 8.689878570500298e-06\n",
            "Number of terms in series: 62\n"
          ]
        }
      ],
      "source": [
        "# Import the math module to access math.sin and math.factorial\n",
        "import math\n",
        "\n",
        "# Value of x (such that (1 - x) = 0.16)\n",
        "x0 = -0.84\n",
        "\n",
        "# Tolerance and initial error (this just needs to be larger than tol)\n",
        "tol = 1.0e-5\n",
        "error = tol + 1.0\n",
        "\n",
        "# Initialise approximation of function\n",
        "approx_f = 0.0\n",
        "\n",
        "# Initialise counter\n",
        "n = 0\n",
        "\n",
        "# Loop until error satisfies tolerance, with a check to avoid\n",
        "# an infinite loop\n",
        "while error > tol and n < 1000:\n",
        "    x = (-1)**n * math.factorial(2*n) * 1/(4**n * math.factorial(n)**2) * x0**n\n",
        "    approx_f += x\n",
        "    print(approx_f)\n",
        "    # Increment counter\n",
        "    n += 1\n",
        "    error = abs(approx_f-(0.16**-0.5))\n",
        "    print(error)\n",
        "    # Guard against an infinite loop\n",
        "    if n > 1000:\n",
        "        print(\"Oops, iteration count is very large. Breaking out of while loop.\")\n",
        "        break\n",
        "print(\"\\nThe error is:\", error)\n",
        "print(\"Number of terms in series:\", n)"
      ]
    },
    {
      "cell_type": "code",
      "execution_count": null,
      "metadata": {
        "nbgrader": {
          "grade": true,
          "grade_id": "cell-03df25d83df3674dfwe",
          "locked": true,
          "points": 0,
          "schema_version": 3,
          "solution": false
        },
        "id": "0QtG9lsBbgGH"
      },
      "outputs": [],
      "source": [
        "## test ##\n",
        "assert error <= 1.0e-5"
      ]
    }
  ],
  "metadata": {
    "celltoolbar": "Create Assignment",
    "kernelspec": {
      "display_name": "Python 3 (ipykernel)",
      "language": "python",
      "name": "python3"
    },
    "language_info": {
      "codemirror_mode": {
        "name": "ipython",
        "version": 3
      },
      "file_extension": ".py",
      "mimetype": "text/x-python",
      "name": "python",
      "nbconvert_exporter": "python",
      "pygments_lexer": "ipython3",
      "version": "3.10.6"
    },
    "otter": {
      "OK_FORMAT": true,
      "assignment_name": "Exercises 2",
      "tests": {}
    },
    "colab": {
      "provenance": []
    }
  },
  "nbformat": 4,
  "nbformat_minor": 0
}