{
  "cells": [
    {
      "cell_type": "markdown",
      "metadata": {
        "nbgrader": {
          "grade": false,
          "grade_id": "cell-7b3313f25bceb7a2",
          "locked": true,
          "schema_version": 3,
          "solution": false
        },
        "id": "5gL6_bAY0rV-"
      },
      "source": [
        "## Exercise 06.1 (selecting and passing data structures)\n",
        "\n",
        "The task in Exercise 04 for computing the area of a triangle involved a function with six arguments ($x$ and $y$ components of each vertex). With six arguments, the likelihood of a user passing arguments in the wrong order is high.\n",
        "\n",
        "Use an appropriate data structure, e.g. a `list`, `tuple`, `dict`, etc, to develop a new version of the function with an improved interface (the interface is the arguments that are passed to the function) with fewer arguments. Add appropriate checks inside your function on the input data."
      ]
    },
    {
      "cell_type": "code",
      "execution_count": 9,
      "metadata": {
        "nbgrader": {
          "grade": false,
          "grade_id": "cell-50c4566d7bcbffaf",
          "locked": false,
          "schema_version": 3,
          "solution": true
        },
        "tags": [],
        "id": "_LljQJM_0rWD",
        "outputId": "5c7eb2a0-7b70-4c88-d95e-ab588b3bbfc1",
        "colab": {
          "base_uri": "https://localhost:8080/"
        }
      },
      "outputs": [
        {
          "output_type": "stream",
          "name": "stdout",
          "text": [
            "3.0\n"
          ]
        }
      ],
      "source": [
        "c1 = [0, 0]\n",
        "c2 = [0, 2]\n",
        "c3 = [3, 0]\n",
        "\n",
        "c1_x = c1[0]\n",
        "c1_y = c1[1]\n",
        "c2_x = c2[0]\n",
        "c2_y = c2[1]\n",
        "c3_x = c3[0]\n",
        "c3_y = c3[1]\n",
        "\n",
        "def area(c1_x, c1_y, c2_x, c2_y, c3_x, c3_y):\n",
        "  return abs((c1_x*(c2_y-c3_y) + c2_x*(c3_y-c1_y) + c3_x*(c1_y-c2_y))*1/2);\n",
        "print(area(c1_x, c1_y, c2_x, c2_y, c3_x, c3_y))"
      ]
    },
    {
      "cell_type": "markdown",
      "metadata": {
        "nbgrader": {
          "grade": false,
          "grade_id": "cell-5065052af9989fdf",
          "locked": true,
          "schema_version": 3,
          "solution": false
        },
        "id": "mFwo7_dm0rWE"
      },
      "source": [
        "## Exercise 06.2 (selecting data structures)\n",
        "\n",
        "For a simple (non-intersecting) polygon with $n$ vertices, $(x_0, y_0)$, $(x_1, y_1)$, . . , $(x_{n-1}, y_{n-1})$, the area $A$ is given by\n",
        "$$\n",
        "A = \\left| \\frac{1}{2} \\sum_{i=0}^{n-1} \\left(x_{i} y _{i+1} - x_{i+1} y_{i} \\right) \\right|\n",
        "$$\n",
        "and where $(x_n, y_n) = (x_0, y_0)$. The vertices should be ordered as you move around the polygon.\n",
        "\n",
        "Write a function that, given only the vertex coordinates, computes the area of a simple polygon. Test your function for some simple shapes. Pay careful attention to the range of any loops. **Test for polygons without a vertex at the origin.**"
      ]
    },
    {
      "cell_type": "code",
      "execution_count": 11,
      "metadata": {
        "nbgrader": {
          "grade": false,
          "grade_id": "cell-4b5a619405787746",
          "locked": false,
          "schema_version": 3,
          "solution": true
        },
        "tags": [],
        "id": "0i0RsZfD0rWF",
        "outputId": "ffa34d30-d934-4ef2-d29a-d925a60b0c1f",
        "colab": {
          "base_uri": "https://localhost:8080/"
        }
      },
      "outputs": [
        {
          "output_type": "stream",
          "name": "stdout",
          "text": [
            "226.0\n"
          ]
        }
      ],
      "source": [
        "import math\n",
        "\n",
        "#c1 = [0, 0, 0, 2, 3, 0]\n",
        "#c2 = [1, 3, 5, 7, 9, 14]\n",
        "c3 = [1, 2, 45, 65, 13, 27, 11, 15, 17, 92, 13, 12, 12, 47]\n",
        "def extract_x(coordinates):\n",
        "  x_values = []\n",
        "  for i in range(0, len(coordinates), 2):\n",
        "    x_values.append(coordinates[i])\n",
        "  return x_values;\n",
        "def extract_y(coordinates):\n",
        "  y_values = []\n",
        "  for i in range(1, len(coordinates), 2):\n",
        "    y_values.append(coordinates[i])\n",
        "  return y_values;\n",
        "def area(x_values, y_values):\n",
        "  if len(x_values) + len(y_values) >=6:\n",
        "    n = len(x_values)\n",
        "    area = 0\n",
        "    for i in range(n-1):\n",
        "      area += (x_values[i] * y_values[(i + 1)]) - (x_values[(i + 1)] * y_values[i])\n",
        "    area += (x_values[-1] * y_values[0]) - (x_values[0] * y_values[-1])\n",
        "    return abs(area/2);\n",
        "  else:\n",
        "    print(\"Invalid Input\")\n",
        "print(area(extract_x(c3), extract_y(c3)))\n",
        "\n"
      ]
    },
    {
      "cell_type": "markdown",
      "metadata": {
        "nbgrader": {
          "grade": false,
          "grade_id": "cell-ced99a38c7bbe7a0",
          "locked": true,
          "schema_version": 3,
          "solution": false
        },
        "id": "FBiuuF_C0rWF"
      },
      "source": [
        "## Exercise 06.3 (indexing)\n",
        "\n",
        "Write a function that uses list indexing to add two vectors of arbitrary length, and returns the new vector. Include a check that the vector sizes match. Print a warning message if there is a size mismatch. The more error information you provide, the easier it would be for someone using your function to debug their code.\n",
        "\n",
        "Add some tests of your code.\n",
        "\n",
        "#### Hint: You can create a list of zeros of length `n` by\n",
        "\n",
        "    z = [0]*n"
      ]
    },
    {
      "cell_type": "code",
      "execution_count": 5,
      "metadata": {
        "nbgrader": {
          "grade": false,
          "grade_id": "cell-47daca03f7a96b62",
          "locked": false,
          "schema_version": 3,
          "solution": true
        },
        "tags": [],
        "id": "Tl7c49ca0rWG",
        "outputId": "12ea47e5-6ce3-4151-e4c5-611cdbc16a4a",
        "colab": {
          "base_uri": "https://localhost:8080/"
        }
      },
      "outputs": [
        {
          "output_type": "stream",
          "name": "stdout",
          "text": [
            "[-2, 11.3, -20, 8]\n"
          ]
        }
      ],
      "source": [
        "def sum_vector(x, y):\n",
        "    \"\"\"Return sum of two vectors\"\"\"\n",
        "    if len(x) != len(y):\n",
        "        print(\"Warning: Vectors are not the same length. Vector 1 has length\" , len(x) , \"and Vector 2 has length\" , len(y) , \"so they can't be added together\")\n",
        "    elif len(x) == len(y):\n",
        "        result = [x[i] + y[i] for i in range(len(x))]\n",
        "        return result;\n",
        "x = [0, 4.3, -5, 7]\n",
        "y = [-2, 7, -15, 1]\n",
        "print(sum_vector(x, y))\n"
      ]
    },
    {
      "cell_type": "code",
      "execution_count": 7,
      "metadata": {
        "nbgrader": {
          "grade": true,
          "grade_id": "cell-95f5819810d2b2c7",
          "locked": true,
          "points": 0,
          "schema_version": 3,
          "solution": false
        },
        "id": "T1oe3Vww0rWH"
      },
      "outputs": [],
      "source": [
        "# tests ##\n",
        "a = [0, 4.3, -5, 7]\n",
        "b = [-2, 7, -15, 1]\n",
        "c = sum_vector(a, b)\n",
        "assert c == [-2, 11.3, -20, 8]"
      ]
    },
    {
      "cell_type": "markdown",
      "metadata": {
        "id": "R7qUSJso0rWH"
      },
      "source": [
        "### Optional (advanced)\n",
        "\n",
        "Try writing a one-line version that performs the `sum_vector` operation using list comprehension and the built-in function [`zip`](https://docs.python.org/3/library/functions.html#zip)."
      ]
    },
    {
      "cell_type": "code",
      "execution_count": null,
      "metadata": {
        "nbgrader": {
          "grade": true,
          "grade_id": "cell-c182b3f0d8952692",
          "locked": false,
          "points": 0,
          "schema_version": 3,
          "solution": true
        },
        "tags": [],
        "id": "V4AqlFxx0rWI"
      },
      "outputs": [],
      "source": [
        "..."
      ]
    },
    {
      "cell_type": "markdown",
      "metadata": {
        "id": "WD3Mvrkc0rWI"
      },
      "source": [
        "## Exercise 06.4 (dictionaries)\n",
        "\n",
        "Create a dictionary that maps college names (the key) to college abbreviations for at least 5 colleges\n",
        "(you can find abbreviations at https://en.wikipedia.org/wiki/Colleges_of_the_University_of_Cambridge#Colleges).\n",
        "From the dictionary, produce and print\n",
        "\n",
        "1. A Python dictionary from college abbreviation to name; and\n",
        "1. A Python list of college abbreviations sorted into alphabetical order.\n",
        "\n",
        "*Optional extension:* Create a dictionary that maps college names (the key) to dictionaries of:\n",
        "\n",
        "- College abbreviation\n",
        "- Year of foundation\n",
        "- Total number students\n",
        "\n",
        "for at least 5 colleges. Take the data from https://en.wikipedia.org/wiki/Colleges_of_the_University_of_Cambridge#Colleges. Using this dictionary,\n",
        "\n",
        "1. Find the college with the greatest number of students and print the abbreviation; and\n",
        "2. Find the oldest college, and print the number of students and the abbreviation for this college."
      ]
    },
    {
      "cell_type": "code",
      "execution_count": 2,
      "metadata": {
        "nbgrader": {
          "grade": false,
          "grade_id": "cell-bc271dc3885e19c5",
          "locked": false,
          "schema_version": 3,
          "solution": true
        },
        "tags": [],
        "id": "KEhCuTDB0rWJ",
        "outputId": "07b11497-09c4-48da-92c5-a772e1a50706",
        "colab": {
          "base_uri": "https://localhost:8080/"
        }
      },
      "outputs": [
        {
          "output_type": "stream",
          "name": "stdout",
          "text": [
            "{'CAI': 'Gonville and Caius College', 'CHR': \"Christ's College\", 'CHU': 'Churchill College', 'CL': 'Clare College', 'DOW': 'Downing College', 'EM': 'Emmanuel College', 'JE': 'Jesus College', 'M': 'Magdalene College'}\n"
          ]
        }
      ],
      "source": [
        "colleges = {\n",
        "    \"CHU\": \"Churchill College\",\n",
        "    \"CL\": \"Clare College\",\n",
        "    \"JE\": \"Jesus College\",\n",
        "    \"CHR\": \"Christ's College\",\n",
        "    \"DOW\": \"Downing College\",\n",
        "    \"EM\": \"Emmanuel College\",\n",
        "    \"M\": \"Magdalene College\",\n",
        "    \"CAI\": \"Gonville and Caius College\"\n",
        "}\n",
        "\n",
        "sorted_colleges = dict(sorted(colleges.items()))\n",
        "print(sorted_colleges)"
      ]
    },
    {
      "cell_type": "markdown",
      "metadata": {
        "nbgrader": {
          "grade": false,
          "grade_id": "cell-45d2551a524193b0",
          "locked": true,
          "schema_version": 3,
          "solution": false
        },
        "id": "JFuS7BJ70rWJ"
      },
      "source": [
        "#### Optional extension"
      ]
    },
    {
      "cell_type": "code",
      "execution_count": null,
      "metadata": {
        "nbgrader": {
          "grade": false,
          "grade_id": "cell-7040c4053c72ce09",
          "locked": false,
          "schema_version": 3,
          "solution": true
        },
        "tags": [],
        "id": "5cbC_E9p0rWJ"
      },
      "outputs": [],
      "source": [
        "..."
      ]
    }
  ],
  "metadata": {
    "celltoolbar": "Create Assignment",
    "kernelspec": {
      "display_name": "Python 3 (ipykernel)",
      "language": "python",
      "name": "python3"
    },
    "language_info": {
      "codemirror_mode": {
        "name": "ipython",
        "version": 3
      },
      "file_extension": ".py",
      "mimetype": "text/x-python",
      "name": "python",
      "nbconvert_exporter": "python",
      "pygments_lexer": "ipython3",
      "version": "3.10.6"
    },
    "otter": {
      "OK_FORMAT": true,
      "assignment_name": "Exercises 6",
      "tests": {}
    },
    "colab": {
      "provenance": []
    }
  },
  "nbformat": 4,
  "nbformat_minor": 0
}